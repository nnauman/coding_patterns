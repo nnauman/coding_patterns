{
 "cells": [
  {
   "cell_type": "markdown",
   "metadata": {},
   "source": [
    "## Subarray average of size k"
   ]
  },
  {
   "cell_type": "markdown",
   "metadata": {},
   "source": [
    "Problem Statement: Given an array, find the average of all contiguous subarrays of size ‘K’ in it."
   ]
  },
  {
   "cell_type": "markdown",
   "metadata": {},
   "source": [
    "Brute force is as follows:"
   ]
  },
  {
   "cell_type": "code",
   "execution_count": 2,
   "metadata": {},
   "outputs": [],
   "source": [
    "def subarray_average(a, k):\n",
    "    n = len(a)\n",
    "    ret = []\n",
    "    \n",
    "    for i in range(n-k+1):\n",
    "        ret.append( sum(a[i:i+k]) / k)\n",
    "    \n",
    "    return ret"
   ]
  },
  {
   "cell_type": "code",
   "execution_count": 3,
   "metadata": {},
   "outputs": [],
   "source": [
    "a = [1, 3, 2, 6, -1, 4, 1, 8, 2]\n",
    "k = 5"
   ]
  },
  {
   "cell_type": "code",
   "execution_count": 4,
   "metadata": {},
   "outputs": [
    {
     "data": {
      "text/plain": [
       "[2.2, 2.8, 2.4, 3.6, 2.8]"
      ]
     },
     "execution_count": 4,
     "metadata": {},
     "output_type": "execute_result"
    }
   ],
   "source": [
    "subarray_average(a, k)"
   ]
  },
  {
   "cell_type": "markdown",
   "metadata": {},
   "source": [
    "**Time: O(n*k)**\n",
    "\n",
    "**Space: O(1) (Not including required space for return array)**"
   ]
  },
  {
   "cell_type": "markdown",
   "metadata": {},
   "source": [
    "With a sliding window, we can do better"
   ]
  },
  {
   "cell_type": "code",
   "execution_count": 5,
   "metadata": {},
   "outputs": [],
   "source": [
    "def subarray_average_sw(a, k):\n",
    "    running_sum = sum(a[0:k])\n",
    "    ret = []\n",
    "    i, j = 0, k\n",
    "    \n",
    "    while j < len(a):\n",
    "        ret.append(running_sum/k)\n",
    "        \n",
    "        running_sum -= a[i]\n",
    "        running_sum += a[j]\n",
    "        i += 1\n",
    "        j += 1\n",
    "        \n",
    "    ret.append(running_sum/k)\n",
    "        \n",
    "    return ret"
   ]
  },
  {
   "cell_type": "code",
   "execution_count": 6,
   "metadata": {},
   "outputs": [
    {
     "data": {
      "text/plain": [
       "[2.2, 2.8, 2.4, 3.6, 2.8]"
      ]
     },
     "execution_count": 6,
     "metadata": {},
     "output_type": "execute_result"
    }
   ],
   "source": [
    "subarray_average_sw(a, k)"
   ]
  },
  {
   "cell_type": "markdown",
   "metadata": {},
   "source": [
    "**Time: O(n)**\n",
    "\n",
    "**Space: O(1)** (Not including required space for return array)"
   ]
  },
  {
   "cell_type": "code",
   "execution_count": 7,
   "metadata": {},
   "outputs": [],
   "source": [
    "import random\n",
    "inputs_list = [[random.randint(0, 50) for _ in range(random.randint(1, 20))] for _ in range(50)]"
   ]
  },
  {
   "cell_type": "code",
   "execution_count": 8,
   "metadata": {},
   "outputs": [],
   "source": [
    "k_list = [random.randint(1, len(a)) for a in inputs_list]"
   ]
  },
  {
   "cell_type": "code",
   "execution_count": 9,
   "metadata": {},
   "outputs": [
    {
     "data": {
      "text/plain": [
       "True"
      ]
     },
     "execution_count": 9,
     "metadata": {},
     "output_type": "execute_result"
    }
   ],
   "source": [
    "all(subarray_average(a, k)==subarray_average_sw(a, k) for a, k in zip(inputs_list, k_list))"
   ]
  },
  {
   "cell_type": "markdown",
   "metadata": {},
   "source": [
    "## Maximum Sum Subarray of Size K"
   ]
  },
  {
   "cell_type": "markdown",
   "metadata": {},
   "source": [
    "Problem Statement: Given an array of positive numbers and a positive number ‘k’, find the maximum sum of any contiguous subarray of size ‘k’."
   ]
  },
  {
   "cell_type": "markdown",
   "metadata": {},
   "source": [
    "Pretty easy and natural sliding window approach:"
   ]
  },
  {
   "cell_type": "code",
   "execution_count": 10,
   "metadata": {},
   "outputs": [],
   "source": [
    "import math\n",
    "\n",
    "def subarray_sum(a, k):\n",
    "    running_sum = sum(a[0:k])\n",
    "    max_sum = -math.inf\n",
    "    i, j = 0, k\n",
    "    \n",
    "    while j < len(a):\n",
    "        max_sum = max(max_sum, running_sum)\n",
    "        \n",
    "        running_sum -= a[i]\n",
    "        running_sum += a[j]\n",
    "        \n",
    "        i += 1\n",
    "        j += 1\n",
    "        \n",
    "    max_sum = max(max_sum, running_sum)\n",
    "    \n",
    "    return max_sum "
   ]
  },
  {
   "cell_type": "code",
   "execution_count": 60,
   "metadata": {},
   "outputs": [],
   "source": [
    "a=[2, 1, 5, 1, 3, 2, 24]\n",
    "k=3 "
   ]
  },
  {
   "cell_type": "code",
   "execution_count": 61,
   "metadata": {},
   "outputs": [
    {
     "data": {
      "text/plain": [
       "29"
      ]
     },
     "execution_count": 61,
     "metadata": {},
     "output_type": "execute_result"
    }
   ],
   "source": [
    "subarray_sum(a, k)"
   ]
  },
  {
   "cell_type": "markdown",
   "metadata": {},
   "source": [
    "**Time: O(n)**\n",
    "    \n",
    "**Space: O(1)**"
   ]
  },
  {
   "cell_type": "markdown",
   "metadata": {},
   "source": [
    "## Smallest Subarray with a given sum"
   ]
  },
  {
   "cell_type": "markdown",
   "metadata": {},
   "source": [
    "Problem Statement: Given an array of positive numbers and a positive number ‘S’, find the length of the smallest contiguous subarray whose sum is greater than or equal to ‘S’. Return 0, if no such subarray exists."
   ]
  },
  {
   "cell_type": "markdown",
   "metadata": {},
   "source": [
    "Simple variable length sliding window with ugly edge case handling."
   ]
  },
  {
   "cell_type": "code",
   "execution_count": 28,
   "metadata": {},
   "outputs": [],
   "source": [
    "def smallest_subarray(s, arr):\n",
    "    import math\n",
    "    \n",
    "    l, r = 0, 0\n",
    "    running_sum = arr[0]\n",
    "    min_len = math.inf\n",
    "    \n",
    "    while (r < len(arr) and l <= r):\n",
    "        if running_sum < s:\n",
    "            r += 1\n",
    "            try:\n",
    "                running_sum += arr[r]\n",
    "            except:\n",
    "                pass\n",
    "        else:\n",
    "            min_len = min(min_len, r-l+1)\n",
    "            running_sum -= arr[l]\n",
    "            l += 1\n",
    "    return min_len"
   ]
  },
  {
   "cell_type": "code",
   "execution_count": 29,
   "metadata": {},
   "outputs": [
    {
     "data": {
      "text/plain": [
       "1"
      ]
     },
     "execution_count": 29,
     "metadata": {},
     "output_type": "execute_result"
    }
   ],
   "source": [
    "smallest_subarray(4, [1, 2, 3, 10])"
   ]
  },
  {
   "cell_type": "markdown",
   "metadata": {},
   "source": [
    "**Time: O(n)** - the i, j variable encounter each element at most twice giving O(2n)=O(n) time complexity\n",
    "\n",
    "**Space: O(1)**"
   ]
  },
  {
   "cell_type": "markdown",
   "metadata": {},
   "source": [
    "Cleaner solution with no need for explicit edge case handling "
   ]
  },
  {
   "cell_type": "code",
   "execution_count": 55,
   "metadata": {},
   "outputs": [],
   "source": [
    "## Cleaner solution\n",
    "import math\n",
    "\n",
    "def smallest_subarray_clean(s, arr):\n",
    "    running_sum, l = 0, 0\n",
    "    min_len = math.inf\n",
    "    \n",
    "    for r in range(0, len(arr)):\n",
    "        running_sum += arr[r]\n",
    "        \n",
    "        while running_sum >= s:\n",
    "            min_len = min(min_len, r-l+1)\n",
    "            running_sum -= arr[l]\n",
    "            l += 1\n",
    "    \n",
    "    return min_len if min_len != math.inf else 0"
   ]
  },
  {
   "cell_type": "code",
   "execution_count": 56,
   "metadata": {},
   "outputs": [
    {
     "data": {
      "text/plain": [
       "1"
      ]
     },
     "execution_count": 56,
     "metadata": {},
     "output_type": "execute_result"
    }
   ],
   "source": [
    "smallest_subarray_clean(4, [1, 2, 3, 10])"
   ]
  },
  {
   "cell_type": "markdown",
   "metadata": {},
   "source": [
    "## Longest Substring with K Distinct Characters"
   ]
  },
  {
   "cell_type": "markdown",
   "metadata": {},
   "source": [
    "**Problem Statement**: Given a string, find the length of the longest substring in it with no more than K distinct characters.\n",
    "\n",
    "https://leetcode.com/problems/longest-substring-with-at-most-k-distinct-characters/  "
   ]
  },
  {
   "cell_type": "markdown",
   "metadata": {},
   "source": [
    "A brute force enumeration can be used here. This would enumerate all $\\sum_{j=1}^{n} {n \\choose j}$ substrings. By the binomial theorem, this sum is $2^{n}$ and so our time complexity would be exponential. Using a sliding window, we can do better."
   ]
  },
  {
   "cell_type": "code",
   "execution_count": 69,
   "metadata": {},
   "outputs": [],
   "source": [
    "from collections import Counter\n",
    "\n",
    "def longest_substring_with_k_distinct(s, k):\n",
    "    from collections import Counter\n",
    "    l = 0\n",
    "    running_len = 0\n",
    "    max_len = 0\n",
    "    seen = Counter()\n",
    "\n",
    "    for r in range(len(s)):\n",
    "        seen[s[r]] += 1\n",
    "        running_len += 1\n",
    "\n",
    "        while len(seen.keys()) > k: # Loop invariant is violated - fix it\n",
    "            seen[s[l]] -= 1\n",
    "            if seen[s[l]] == 0: del seen[s[l]]\n",
    "            l += 1\n",
    "            running_len -= 1\n",
    "\n",
    "        max_len = max(max_len, running_len)\n",
    "\n",
    "    return max_len"
   ]
  },
  {
   "cell_type": "markdown",
   "metadata": {},
   "source": [
    "This algorithm is correct because the loop invariant ensures the window under consideration is a valid one (i.e. has k or fewer distinct elements). We consider each such valid window and keep track of the maximum one. If we violate the variant, the while loop executes and restores the invariant by decreasing the window size from the left and only then compares the substring length to the previous maximum substring length. Its clear that the largest len substring will be found because the window is \"greedy\" in the sense that it will keep increasing the substring until a violation of the invariant occurs. Hence the longest substring will be found."
   ]
  },
  {
   "cell_type": "markdown",
   "metadata": {},
   "source": [
    "**Time**: Each element is encoutnered at most twice hence **O(n)** time. The len function might seem like it might be O(n) but actually len for most collection data structures in python is O(1) time.\n",
    "\n",
    "**Space**: We keep a Counter dictionary to keep track of counts and there can be at most k+1 items in this dictionary hence **O(k)** space"
   ]
  },
  {
   "cell_type": "markdown",
   "metadata": {},
   "source": [
    "## Fruits into Baskets"
   ]
  },
  {
   "cell_type": "markdown",
   "metadata": {},
   "source": [
    "**Problem Statement**: Given an array of characters where each character represents a fruit tree, you are given two baskets and your goal is to put maximum number of fruits in each basket. The only restriction is that each basket can have only one type of fruit.\n",
    "\n",
    "You can start with any tree, but once you have started you can’t skip a tree. You will pick one fruit from each tree until you cannot, i.e., you will stop when you have to pick from a third fruit type.\n",
    "\n",
    "Write a function to return the maximum number of fruits in both the baskets.\n",
    "\n",
    "https://leetcode.com/problems/fruit-into-baskets/"
   ]
  },
  {
   "cell_type": "markdown",
   "metadata": {},
   "source": [
    "Note that this problem is just the previous one with k = 2 but dressed up in a distracting backstory. Be very aware of this type of interview question tactic as it shows up often. You need to ignore the fluff and simplify the problem down to the core problem at hand which is the \"Longest Substring with K Distinct Characters\" problem. This skill of simplifying down is just as important as the actual algorithmic problem solving part."
   ]
  },
  {
   "cell_type": "code",
   "execution_count": 71,
   "metadata": {},
   "outputs": [],
   "source": [
    "def totalFruit(tree):\n",
    "    return longest_substring_with_k_distinct(s, 2)"
   ]
  },
  {
   "cell_type": "markdown",
   "metadata": {},
   "source": [
    "Time is same as before, space is O(1) since k=2 now"
   ]
  },
  {
   "cell_type": "markdown",
   "metadata": {},
   "source": [
    "## No-repeat Substring"
   ]
  },
  {
   "cell_type": "markdown",
   "metadata": {},
   "source": [
    "Problem Statement: Given a string, find the length of the longest substring which has no repeating characters.\n",
    "\n",
    "https://leetcode.com/problems/longest-substring-without-repeating-characters/"
   ]
  },
  {
   "cell_type": "code",
   "execution_count": null,
   "metadata": {},
   "outputs": [],
   "source": [
    "def lengthOfLongestSubstring(s):\n",
    "    l, max_len = 0, 0\n",
    "    seen = {}\n",
    "    \n",
    "    for r, c in enumerate(s):\n",
    "        if c in seen:\n",
    "            if seen[c] >= l:\n",
    "                l = seen[c] + 1\n",
    "                \n",
    "        seen[c] = r\n",
    "        max_len = max(max_len, r-l+1)\n",
    "        \n",
    "    return max_len  "
   ]
  },
  {
   "cell_type": "markdown",
   "metadata": {},
   "source": [
    "The correctness of the algorithm is ensured since, by the loop invariant that we maintain, at the end of the loop, we always have a distinct substring of letters and we are greedily expanding our window thus the maximum distinct substring is guaranteed to be considered. All we need to do is simply keep track of the maximum of all such distinct substrings we see to get the answer.\n",
    "\n",
    "The only trickiness here compared to the previous 2 problems is that the sliding window \"jumps\" to shrink. We keep track of all the latest indices we've seen thus far for each character encountered. If we encounter the same character again, we now *potentially* have a repeat. Note that its only potential because if that character is before l (i.e. out of the sliding window) then it does not affect the uniqueness of our sliding window and we *don't* shrink the window. However, if the repeat character *is* in the sliding window (i.e. seen[c] >= l), then we must shrink our window so this character is no longer there (i.e. l = seen[c] + 1). "
   ]
  },
  {
   "cell_type": "markdown",
   "metadata": {},
   "source": [
    "**Time**: We only go through the string once hence **O(n)**.\n",
    "\n",
    "**Space**: The dictionary we have keep track of the unique elements hence **O(k)** where k is the number of unique elements. If s is all unique, the space will be O(n)"
   ]
  },
  {
   "cell_type": "markdown",
   "metadata": {},
   "source": [
    "## Longest Repeating Character Replacement"
   ]
  },
  {
   "cell_type": "markdown",
   "metadata": {},
   "source": [
    "**Problem Statement**: https://leetcode.com/problems/longest-repeating-character-replacement/"
   ]
  },
  {
   "cell_type": "code",
   "execution_count": 1,
   "metadata": {},
   "outputs": [],
   "source": [
    "def characterReplacement(s, k):\n",
    "    from collections import Counter\n",
    "\n",
    "    l, max_len, max_repeat = 0, 0, 0\n",
    "    seen = Counter()\n",
    "\n",
    "    for r, rc in enumerate(s):\n",
    "        seen[rc] += 1\n",
    "        max_repeat = max(max_repeat, seen[rc])\n",
    "\n",
    "        if (r-l+1-max_repeat) > k: \n",
    "            seen[s[l]] -= 1\n",
    "            l += 1\n",
    "\n",
    "        max_len = max(max_len, r-l+1)\n",
    "\n",
    "    return max_len"
   ]
  },
  {
   "cell_type": "markdown",
   "metadata": {},
   "source": [
    "Note that max_repeat here is *not* keeping track of the current max element of the sliding window. Rather it is a historical max. This is fine because we're only interested in the max substring and this only depends on the historical max (i.e. any substring which does not contain the historical max repeated characters will not be the max substring). So when are window does not contain the historical max, we are moving the window to the right one step at a time. Once we reach a max_repeat greater than the historical max_repeat, we can start increasing our window size again. Overall this solution to the problem is ugly since it doesn't follow intuition and a lot of seemingly incorrect behavior is occurring but in the end, it does indeed keep track of the max substring and thats all we care about.\n",
    "\n",
    "The best way to think about the sliding window is as follows: We greedily expand until we hit the maximum possible substring. After this we are simply shifting the window to the right one place at a time until the max_repeat character hits a new max and we can then increase our window size once again. The window size only increases or stays the same, and never decreases."
   ]
  },
  {
   "cell_type": "markdown",
   "metadata": {},
   "source": [
    "**Time**: **O(n)** since we encounter each element only once and all the ops in the for loop are constant time\n",
    "\n",
    "**Space**: **O(1)** since we store at most 26 keys in the Counter."
   ]
  },
  {
   "cell_type": "markdown",
   "metadata": {},
   "source": [
    "## Longest Subarray with Ones after Replacement"
   ]
  },
  {
   "cell_type": "markdown",
   "metadata": {},
   "source": [
    "**Problem Statement**: https://leetcode.com/problems/max-consecutive-ones-iii/"
   ]
  },
  {
   "cell_type": "code",
   "execution_count": 3,
   "metadata": {},
   "outputs": [],
   "source": [
    "def longestOnes(A, K):\n",
    "    l, max_len = 0, 0\n",
    "    ones_count = 0\n",
    "\n",
    "    for r in range(len(A)):\n",
    "        if A[r] == 1: ones_count += 1\n",
    "\n",
    "        if r-l+1-ones_count > K: # If the number of zeros is greater than k, shrink window\n",
    "            if A[l] == 1: ones_count -= 1\n",
    "            l += 1\n",
    "\n",
    "        max_len = max(max_len, r-l+1)\n",
    "\n",
    "    return max_len"
   ]
  },
  {
   "cell_type": "markdown",
   "metadata": {},
   "source": [
    "This is a simpler version of the above problem. The only possible elements we can replace are the 0's so we only need to keep track of the 1's (as opposed to keeping keeping track of counts of all distinct elements and updating the max_repeat as in the above problem).\n",
    "\n",
    "The idea is the same as before. We keep greedily expanding the window as long as it's valid (i.e. the number of 0's in the window is less than or equal to k). If it is no longer valid, we shift the window to the right by one spot and try expanding again. It's clear the maximum subarray will be considered in this way and that max_len will keep track of it once it is encounterd."
   ]
  },
  {
   "cell_type": "markdown",
   "metadata": {},
   "source": [
    "Time and space same as previous problem"
   ]
  },
  {
   "cell_type": "markdown",
   "metadata": {},
   "source": [
    "## Permutation in String"
   ]
  },
  {
   "cell_type": "markdown",
   "metadata": {},
   "source": [
    "Problem Statement: https://leetcode.com/problems/permutation-in-string/"
   ]
  },
  {
   "cell_type": "code",
   "execution_count": 6,
   "metadata": {},
   "outputs": [],
   "source": [
    "def checkInclusion(s1, s2):\n",
    "    from collections import Counter\n",
    "    s1_map, s2_map = Counter(s1), Counter()\n",
    "    l = 0\n",
    "\n",
    "    for r, rc in enumerate(s2):\n",
    "        s2_map[rc] += 1\n",
    "\n",
    "        if r >= len(s1):\n",
    "            lc = s2[l]\n",
    "            s2_map[lc] -= 1\n",
    "            if s2_map[lc] == 0: del s2_map[lc]\n",
    "            l += 1\n",
    "\n",
    "        if s2_map == s1_map: return True\n",
    "    return False"
   ]
  },
  {
   "cell_type": "markdown",
   "metadata": {},
   "source": [
    "**Time: O(n)** because both s2_map and s1_map will be 26 keys at most and so the equality check is O(1)\n",
    "\n",
    "**Space: O(1)** since s1_map and s2_map are O(26) at most."
   ]
  },
  {
   "cell_type": "markdown",
   "metadata": {},
   "source": [
    "## String Anagrams"
   ]
  },
  {
   "cell_type": "markdown",
   "metadata": {},
   "source": [
    "Problem Statment: https://leetcode.com/problems/find-all-anagrams-in-a-string/"
   ]
  },
  {
   "cell_type": "code",
   "execution_count": 7,
   "metadata": {},
   "outputs": [],
   "source": [
    "def findAnagrams(s, p):\n",
    "    from collections import Counter\n",
    "\n",
    "    p_map, s_map = Counter(p), Counter()\n",
    "    l = 0\n",
    "    ret = []\n",
    "\n",
    "    for r, rc in enumerate(s):\n",
    "        s_map[rc] += 1\n",
    "\n",
    "        if r >= len(p):\n",
    "            lc = s[l]\n",
    "            s_map[lc] -= 1\n",
    "            if s_map[lc] == 0: del s_map[lc]\n",
    "            l += 1\n",
    "\n",
    "        if s_map == p_map:\n",
    "            ret.append(l)\n",
    "\n",
    "    return ret"
   ]
  },
  {
   "cell_type": "markdown",
   "metadata": {},
   "source": [
    "Note that this problem is almost exactly the same as above except now we are simply trying to track ALL such permutations encountered rather than just returning after we encounter the first one. So all we have to change is the eqaulity check: instead of returning true we simply keep track of the start index of the window (l) as that is what the question wants."
   ]
  },
  {
   "cell_type": "markdown",
   "metadata": {},
   "source": [
    "Time and space complexity are the same as above (not counting the required extra return array for the space)"
   ]
  },
  {
   "cell_type": "markdown",
   "metadata": {},
   "source": [
    "## Minimum Window Substring"
   ]
  },
  {
   "cell_type": "markdown",
   "metadata": {},
   "source": [
    "Problem Statement: https://leetcode.com/problems/minimum-window-substring/"
   ]
  },
  {
   "cell_type": "code",
   "execution_count": 12,
   "metadata": {},
   "outputs": [
    {
     "data": {
      "text/plain": [
       "1"
      ]
     },
     "execution_count": 12,
     "metadata": {},
     "output_type": "execute_result"
    }
   ],
   "source": [
    "def minWindow(self, s: str, t: str) -> str:\n",
    "    from collections import Counter\n",
    "\n",
    "    l, matched, l_ind = 0, 0, 0\n",
    "    min_len = math.inf\n",
    "    t_counter = Counter(t)\n",
    "\n",
    "    for r, rc in enumerate(s):\n",
    "        if rc in t_counter:\n",
    "            t_counter[rc] -= 1\n",
    "            if t_counter[rc] >= 0:\n",
    "                matched += 1\n",
    "\n",
    "        # Note that we exit this loop as soon as we lo longer have a \n",
    "        # valid window. The search to make it valid begins again at this point\n",
    "        # with an updated left side of the window.\n",
    "        while matched == len(t):\n",
    "            # First we update the min\n",
    "            if r-l+1 < min_len:\n",
    "                min_len = r-l+1\n",
    "                l_ind = l\n",
    "\n",
    "            # Now we shrink the window. If we already have the minimum\n",
    "            # window, this loop will not run again. Otherwise, we shrink until\n",
    "            # we remove the minimal value the makes the window valid.\n",
    "            lc = s[l]\n",
    "            l += 1\n",
    "\n",
    "            if lc in t_counter:\n",
    "                 # t_counter[c] will either be negative or 0 if we've reached this stage. If it's 0\n",
    "                 # that means increasing l makes the window invalid and therefore we will be exiting the loop\n",
    "                if t_counter[lc] == 0:\n",
    "                    matched -= 1\n",
    "                t_counter[lc] += 1\n",
    "\n",
    "    return \"\" if min_len == math.inf else s[l_ind:l_ind+min_len]"
   ]
  },
  {
   "cell_type": "markdown",
   "metadata": {},
   "source": [
    "The correctness follows because at each expansion of the sliding window, it will try shrinking itself to the smallest possible valid window. Therefore, the smallest such window will undoudtedly be encountered and tracked via min_len and l_ind"
   ]
  },
  {
   "cell_type": "markdown",
   "metadata": {},
   "source": [
    "**Time**: At most each character is considered twice so **O(n)**\n",
    "\n",
    "**Space**: The Counter takes **O(k)** space where k is the number of unique letters in t."
   ]
  },
  {
   "cell_type": "markdown",
   "metadata": {},
   "source": [
    "## Substring with Concatenation of All Words"
   ]
  },
  {
   "cell_type": "markdown",
   "metadata": {},
   "source": [
    "Problem Statement: https://leetcode.com/problems/substring-with-concatenation-of-all-words/"
   ]
  },
  {
   "cell_type": "code",
   "execution_count": 20,
   "metadata": {},
   "outputs": [],
   "source": [
    "def findSubstring(s, words):\n",
    "    from collections import Counter\n",
    "\n",
    "    if not words or not s:\n",
    "        return []\n",
    "\n",
    "    word_map = Counter(words)\n",
    "    word_count = len(words)\n",
    "    word_len = len(words[0])\n",
    "    ret = []\n",
    "\n",
    "    for l in range( (len(s)-word_count*word_len)+1):\n",
    "        word_seen = Counter() # This Counter will start fresh for each start index l under consideration\n",
    "\n",
    "        for r in range(word_count): \n",
    "            nw_ind = l + r*word_len\n",
    "            nw = s[nw_ind:nw_ind+word_len]\n",
    "\n",
    "            if nw not in word_map: # We found a word that's not in words, break, this is not a solution\n",
    "                break\n",
    "\n",
    "            word_seen[nw] += 1\n",
    "\n",
    "            if word_seen[nw] > word_map[nw]: # Counted too many of the same word, break, this is not a solution.\n",
    "                break\n",
    "\n",
    "            if r+1 == word_count: # All words are in word_seen now and none of them appear more than neccessary.\n",
    "                ret.append(l)\n",
    "\n",
    "    return ret"
   ]
  },
  {
   "cell_type": "markdown",
   "metadata": {},
   "source": [
    "One of the key factors that ensure the correctness of this algorithm is that all words have the same length. Because of this, we can jump word_len by word_len and keep considering each candidate word for each index in the string. If we are able to match all words starting at some position l, then this result gets added to the return array. If even one of the words is not there, or if we count too many of a single word (as seen in the condition word_seen[nw] > word_map[nw]). Overal this is a fairly straightforward algorithm but also not very efficient. However, given the restrictions of the problem, it is an optimal one."
   ]
  },
  {
   "cell_type": "markdown",
   "metadata": {},
   "source": [
    "**Time**: **O(len(s) * len(words) * len(words[k])** where k is arbitrary since all words have the same length\n",
    "\n",
    "**Space**: Two hash maps having at most q entries where **q is the number of unique words in words**. So **O(q)**"
   ]
  },
  {
   "cell_type": "code",
   "execution_count": null,
   "metadata": {},
   "outputs": [],
   "source": []
  }
 ],
 "metadata": {
  "hide_input": false,
  "kernelspec": {
   "display_name": "Python 3",
   "language": "python",
   "name": "python3"
  },
  "language_info": {
   "codemirror_mode": {
    "name": "ipython",
    "version": 3
   },
   "file_extension": ".py",
   "mimetype": "text/x-python",
   "name": "python",
   "nbconvert_exporter": "python",
   "pygments_lexer": "ipython3",
   "version": "3.7.3"
  },
  "varInspector": {
   "cols": {
    "lenName": 16,
    "lenType": 16,
    "lenVar": 40
   },
   "kernels_config": {
    "python": {
     "delete_cmd_postfix": "",
     "delete_cmd_prefix": "del ",
     "library": "var_list.py",
     "varRefreshCmd": "print(var_dic_list())"
    },
    "r": {
     "delete_cmd_postfix": ") ",
     "delete_cmd_prefix": "rm(",
     "library": "var_list.r",
     "varRefreshCmd": "cat(var_dic_list()) "
    }
   },
   "types_to_exclude": [
    "module",
    "function",
    "builtin_function_or_method",
    "instance",
    "_Feature"
   ],
   "window_display": false
  }
 },
 "nbformat": 4,
 "nbformat_minor": 2
}

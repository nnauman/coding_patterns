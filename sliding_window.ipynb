{
 "cells": [
  {
   "cell_type": "markdown",
   "metadata": {},
   "source": [
    "## Subarray average of size k"
   ]
  },
  {
   "cell_type": "markdown",
   "metadata": {},
   "source": [
    "Problem Statement: Given an array, find the average of all contiguous subarrays of size ‘K’ in it."
   ]
  },
  {
   "cell_type": "markdown",
   "metadata": {},
   "source": [
    "Brute force is as follows:"
   ]
  },
  {
   "cell_type": "code",
   "execution_count": 2,
   "metadata": {},
   "outputs": [],
   "source": [
    "def subarray_average(a, k):\n",
    "    n = len(a)\n",
    "    ret = []\n",
    "    \n",
    "    for i in range(n-k+1):\n",
    "        ret.append( sum(a[i:i+k]) / k)\n",
    "    \n",
    "    return ret"
   ]
  },
  {
   "cell_type": "code",
   "execution_count": 3,
   "metadata": {},
   "outputs": [],
   "source": [
    "a = [1, 3, 2, 6, -1, 4, 1, 8, 2]\n",
    "k = 5"
   ]
  },
  {
   "cell_type": "code",
   "execution_count": 4,
   "metadata": {},
   "outputs": [
    {
     "data": {
      "text/plain": [
       "[2.2, 2.8, 2.4, 3.6, 2.8]"
      ]
     },
     "execution_count": 4,
     "metadata": {},
     "output_type": "execute_result"
    }
   ],
   "source": [
    "subarray_average(a, k)"
   ]
  },
  {
   "cell_type": "markdown",
   "metadata": {},
   "source": [
    "**Time: O(n*k)**\n",
    "\n",
    "**Space: O(1) (Not including required space for return array)**"
   ]
  },
  {
   "cell_type": "markdown",
   "metadata": {},
   "source": [
    "With a sliding window, we can do better"
   ]
  },
  {
   "cell_type": "code",
   "execution_count": 5,
   "metadata": {},
   "outputs": [],
   "source": [
    "def subarray_average_sw(a, k):\n",
    "    running_sum = sum(a[0:k])\n",
    "    ret = []\n",
    "    i, j = 0, k\n",
    "    \n",
    "    while j < len(a):\n",
    "        ret.append(running_sum/k)\n",
    "        \n",
    "        running_sum -= a[i]\n",
    "        running_sum += a[j]\n",
    "        i += 1\n",
    "        j += 1\n",
    "        \n",
    "    ret.append(running_sum/k)\n",
    "        \n",
    "    return ret"
   ]
  },
  {
   "cell_type": "code",
   "execution_count": 6,
   "metadata": {},
   "outputs": [
    {
     "data": {
      "text/plain": [
       "[2.2, 2.8, 2.4, 3.6, 2.8]"
      ]
     },
     "execution_count": 6,
     "metadata": {},
     "output_type": "execute_result"
    }
   ],
   "source": [
    "subarray_average_sw(a, k)"
   ]
  },
  {
   "cell_type": "markdown",
   "metadata": {},
   "source": [
    "**Time: O(n)**\n",
    "\n",
    "**Space: O(1)** (Not including required space for return array)"
   ]
  },
  {
   "cell_type": "code",
   "execution_count": 7,
   "metadata": {},
   "outputs": [],
   "source": [
    "import random\n",
    "inputs_list = [[random.randint(0, 50) for _ in range(random.randint(1, 20))] for _ in range(50)]"
   ]
  },
  {
   "cell_type": "code",
   "execution_count": 8,
   "metadata": {},
   "outputs": [],
   "source": [
    "k_list = [random.randint(1, len(a)) for a in inputs_list]"
   ]
  },
  {
   "cell_type": "code",
   "execution_count": 9,
   "metadata": {},
   "outputs": [
    {
     "data": {
      "text/plain": [
       "True"
      ]
     },
     "execution_count": 9,
     "metadata": {},
     "output_type": "execute_result"
    }
   ],
   "source": [
    "all(subarray_average(a, k)==subarray_average_sw(a, k) for a, k in zip(inputs_list, k_list))"
   ]
  },
  {
   "cell_type": "markdown",
   "metadata": {},
   "source": [
    "## Maximum Sum Subarray of Size K"
   ]
  },
  {
   "cell_type": "markdown",
   "metadata": {},
   "source": [
    "Problem Statement: Given an array of positive numbers and a positive number ‘k’, find the maximum sum of any contiguous subarray of size ‘k’."
   ]
  },
  {
   "cell_type": "markdown",
   "metadata": {},
   "source": [
    "Pretty easy and natural sliding window approach:"
   ]
  },
  {
   "cell_type": "code",
   "execution_count": 10,
   "metadata": {},
   "outputs": [],
   "source": [
    "import math\n",
    "\n",
    "def subarray_sum(a, k):\n",
    "    running_sum = sum(a[0:k])\n",
    "    max_sum = -math.inf\n",
    "    i, j = 0, k\n",
    "    \n",
    "    while j < len(a):\n",
    "        max_sum = max(max_sum, running_sum)\n",
    "        \n",
    "        running_sum -= a[i]\n",
    "        running_sum += a[j]\n",
    "        \n",
    "        i += 1\n",
    "        j += 1\n",
    "        \n",
    "    max_sum = max(max_sum, running_sum)\n",
    "    \n",
    "    return max_sum "
   ]
  },
  {
   "cell_type": "code",
   "execution_count": 60,
   "metadata": {},
   "outputs": [],
   "source": [
    "a=[2, 1, 5, 1, 3, 2, 24]\n",
    "k=3 "
   ]
  },
  {
   "cell_type": "code",
   "execution_count": 61,
   "metadata": {},
   "outputs": [
    {
     "data": {
      "text/plain": [
       "29"
      ]
     },
     "execution_count": 61,
     "metadata": {},
     "output_type": "execute_result"
    }
   ],
   "source": [
    "subarray_sum(a, k)"
   ]
  },
  {
   "cell_type": "markdown",
   "metadata": {},
   "source": [
    "**Time: O(n)**\n",
    "    \n",
    "**Space: O(1)**"
   ]
  },
  {
   "cell_type": "markdown",
   "metadata": {},
   "source": [
    "## Smallest Subarray with a given sum"
   ]
  },
  {
   "cell_type": "markdown",
   "metadata": {},
   "source": [
    "Problem Statement: Given an array of positive numbers and a positive number ‘S’, find the length of the smallest contiguous subarray whose sum is greater than or equal to ‘S’. Return 0, if no such subarray exists."
   ]
  },
  {
   "cell_type": "markdown",
   "metadata": {},
   "source": [
    "Simple variable length sliding window with ugly edge case handling."
   ]
  },
  {
   "cell_type": "code",
   "execution_count": 28,
   "metadata": {},
   "outputs": [],
   "source": [
    "def smallest_subarray(s, arr):\n",
    "    import math\n",
    "    \n",
    "    l, r = 0, 0\n",
    "    running_sum = arr[0]\n",
    "    min_len = math.inf\n",
    "    \n",
    "    while (r < len(arr) and l <= r):\n",
    "        if running_sum < s:\n",
    "            r += 1\n",
    "            try:\n",
    "                running_sum += arr[r]\n",
    "            except:\n",
    "                pass\n",
    "        else:\n",
    "            min_len = min(min_len, r-l+1)\n",
    "            running_sum -= arr[l]\n",
    "            l += 1\n",
    "    return min_len"
   ]
  },
  {
   "cell_type": "code",
   "execution_count": 29,
   "metadata": {},
   "outputs": [
    {
     "data": {
      "text/plain": [
       "1"
      ]
     },
     "execution_count": 29,
     "metadata": {},
     "output_type": "execute_result"
    }
   ],
   "source": [
    "smallest_subarray(4, [1, 2, 3, 10])"
   ]
  },
  {
   "cell_type": "markdown",
   "metadata": {},
   "source": [
    "**Time: O(n)** - the i, j variable encounter each element at most twice giving O(2n)=O(n) time complexity\n",
    "\n",
    "**Space: O(1)**"
   ]
  },
  {
   "cell_type": "markdown",
   "metadata": {},
   "source": [
    "Cleaner solution with no need for explicit edge case handling "
   ]
  },
  {
   "cell_type": "code",
   "execution_count": 55,
   "metadata": {},
   "outputs": [],
   "source": [
    "## Cleaner solution\n",
    "import math\n",
    "\n",
    "def smallest_subarray_clean(s, arr):\n",
    "    running_sum, l = 0, 0\n",
    "    min_len = math.inf\n",
    "    \n",
    "    for r in range(0, len(arr)):\n",
    "        running_sum += arr[r]\n",
    "        \n",
    "        while running_sum >= s:\n",
    "            min_len = min(min_len, r-l+1)\n",
    "            running_sum -= arr[l]\n",
    "            l += 1\n",
    "    \n",
    "    return min_len if min_len != math.inf else 0"
   ]
  },
  {
   "cell_type": "code",
   "execution_count": 56,
   "metadata": {},
   "outputs": [
    {
     "data": {
      "text/plain": [
       "1"
      ]
     },
     "execution_count": 56,
     "metadata": {},
     "output_type": "execute_result"
    }
   ],
   "source": [
    "smallest_subarray_clean(4, [1, 2, 3, 10])"
   ]
  },
  {
   "cell_type": "markdown",
   "metadata": {},
   "source": [
    "## Longest Substring with K Distinct Characters"
   ]
  },
  {
   "cell_type": "markdown",
   "metadata": {},
   "source": [
    "**Problem Statement**: Given a string, find the length of the longest substring in it with no more than K distinct characters.\n",
    "\n",
    "https://leetcode.com/problems/longest-substring-with-at-most-k-distinct-characters/  "
   ]
  },
  {
   "cell_type": "markdown",
   "metadata": {},
   "source": [
    "A brute force enumeration can be used here. This would enumerate all $\\sum_{j=1}^{n} {n \\choose j}$ substrings. By the binomial theorem, this sum is $2^{n}$ and so our time complexity would be exponential. Using a sliding window, we can do better."
   ]
  },
  {
   "cell_type": "code",
   "execution_count": 69,
   "metadata": {},
   "outputs": [],
   "source": [
    "from collections import Counter\n",
    "\n",
    "def longest_substring_with_k_distinct(s, k):\n",
    "    from collections import Counter\n",
    "    l = 0\n",
    "    running_len = 0\n",
    "    max_len = 0\n",
    "    seen = Counter()\n",
    "\n",
    "    for r in range(len(s)):\n",
    "        seen[s[r]] += 1\n",
    "        running_len += 1\n",
    "\n",
    "        while len(seen.keys()) > k: # Loop invariant is violated - fix it\n",
    "            seen[s[l]] -= 1\n",
    "            if seen[s[l]] == 0: del seen[s[l]]\n",
    "            l += 1\n",
    "            running_len -= 1\n",
    "\n",
    "        max_len = max(max_len, running_len)\n",
    "\n",
    "    return max_len"
   ]
  },
  {
   "cell_type": "markdown",
   "metadata": {},
   "source": [
    "This algorithm is correct because the loop invariant ensures the window under consideration is a valid one (i.e. has k or fewer distinct elements). We consider each such valid window and keep track of the maximum one. If we violate the variant, the while loop executes and restores the invariant by decreasing the window size from the left and only then compares the substring length to the previous maximum substring length. Its clear that the largest len substring will be found because the window is \"greedy\" in the sense that it will keep increasing the substring until a violation of the invariant occurs. Hence the longest substring will be found."
   ]
  },
  {
   "cell_type": "markdown",
   "metadata": {},
   "source": [
    "**Time**: Each element is encoutnered at most twice hence **O(n)** time. The len function might seem like it might be O(n) but actually len for most collection data structures in python is O(1) time.\n",
    "\n",
    "**Space**: We keep a Counter dictionary to keep track of counts hence **O(n)** space"
   ]
  }
 ],
 "metadata": {
  "hide_input": false,
  "kernelspec": {
   "display_name": "Python 3",
   "language": "python",
   "name": "python3"
  },
  "language_info": {
   "codemirror_mode": {
    "name": "ipython",
    "version": 3
   },
   "file_extension": ".py",
   "mimetype": "text/x-python",
   "name": "python",
   "nbconvert_exporter": "python",
   "pygments_lexer": "ipython3",
   "version": "3.7.3"
  },
  "varInspector": {
   "cols": {
    "lenName": 16,
    "lenType": 16,
    "lenVar": 40
   },
   "kernels_config": {
    "python": {
     "delete_cmd_postfix": "",
     "delete_cmd_prefix": "del ",
     "library": "var_list.py",
     "varRefreshCmd": "print(var_dic_list())"
    },
    "r": {
     "delete_cmd_postfix": ") ",
     "delete_cmd_prefix": "rm(",
     "library": "var_list.r",
     "varRefreshCmd": "cat(var_dic_list()) "
    }
   },
   "types_to_exclude": [
    "module",
    "function",
    "builtin_function_or_method",
    "instance",
    "_Feature"
   ],
   "window_display": false
  }
 },
 "nbformat": 4,
 "nbformat_minor": 2
}

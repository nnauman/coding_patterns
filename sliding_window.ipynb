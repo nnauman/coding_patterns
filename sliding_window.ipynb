{
 "cells": [
  {
   "cell_type": "markdown",
   "metadata": {},
   "source": [
    "## Subarray average of size k"
   ]
  },
  {
   "cell_type": "code",
   "execution_count": 25,
   "metadata": {},
   "outputs": [],
   "source": [
    "def subarray_average(a, k):\n",
    "    n = len(a)\n",
    "    ret = []\n",
    "    \n",
    "    for i in range(n-k+1):\n",
    "        ret.append( sum(a[i:i+k]) / k)\n",
    "    \n",
    "    return ret"
   ]
  },
  {
   "cell_type": "code",
   "execution_count": 26,
   "metadata": {},
   "outputs": [],
   "source": [
    "a = [1, 3, 2, 6, -1, 4, 1, 8, 2]\n",
    "k = 5"
   ]
  },
  {
   "cell_type": "code",
   "execution_count": 27,
   "metadata": {},
   "outputs": [
    {
     "data": {
      "text/plain": [
       "[2.2, 2.8, 2.4, 3.6, 2.8]"
      ]
     },
     "execution_count": 27,
     "metadata": {},
     "output_type": "execute_result"
    }
   ],
   "source": [
    "subarray_average(a, k)"
   ]
  },
  {
   "cell_type": "code",
   "execution_count": 41,
   "metadata": {},
   "outputs": [],
   "source": [
    "def subarray_average_sw(a, k):\n",
    "    running_sum = sum(a[0:k])\n",
    "    ret = []\n",
    "    i, j = 0, k\n",
    "    \n",
    "    while j < len(a):\n",
    "        ret.append(running_sum/k)\n",
    "        \n",
    "        running_sum -= a[i]\n",
    "        running_sum += a[j]\n",
    "        i += 1\n",
    "        j += 1\n",
    "        \n",
    "    ret.append(running_sum/k)\n",
    "        \n",
    "    return ret"
   ]
  },
  {
   "cell_type": "code",
   "execution_count": 42,
   "metadata": {},
   "outputs": [
    {
     "data": {
      "text/plain": [
       "[2.2, 2.8, 2.4, 3.6, 2.8]"
      ]
     },
     "execution_count": 42,
     "metadata": {},
     "output_type": "execute_result"
    }
   ],
   "source": [
    "subarray_average_sw(a, k)"
   ]
  },
  {
   "cell_type": "code",
   "execution_count": 46,
   "metadata": {},
   "outputs": [],
   "source": [
    "import random\n",
    "inputs_list = [[random.randint(0, 50) for _ in range(random.randint(1, 20))] for _ in range(50)]"
   ]
  },
  {
   "cell_type": "code",
   "execution_count": 47,
   "metadata": {},
   "outputs": [],
   "source": [
    "k_list = [random.randint(1, len(a)) for a in inputs_list]"
   ]
  },
  {
   "cell_type": "code",
   "execution_count": 51,
   "metadata": {},
   "outputs": [
    {
     "data": {
      "text/plain": [
       "True"
      ]
     },
     "execution_count": 51,
     "metadata": {},
     "output_type": "execute_result"
    }
   ],
   "source": [
    "all(subarray_average(a, k)==subarray_average_sw(a, k) for a, k in zip(inputs_list, k_list))"
   ]
  },
  {
   "cell_type": "markdown",
   "metadata": {},
   "source": [
    "## Maximum Sum Subarray of Size K"
   ]
  },
  {
   "cell_type": "code",
   "execution_count": 57,
   "metadata": {},
   "outputs": [],
   "source": [
    "import math\n",
    "\n",
    "def subarray_sum(a, k):\n",
    "    running_sum = sum(a[0:k])\n",
    "    max_sum = -math.inf\n",
    "    i, j = 0, k\n",
    "    \n",
    "    while j < len(a):\n",
    "        max_sum = max(max_sum, running_sum)\n",
    "        \n",
    "        running_sum -= a[i]\n",
    "        running_sum += a[j]\n",
    "        \n",
    "        i += 1\n",
    "        j += 1\n",
    "        \n",
    "    max_sum = max(max_sum, running_sum)\n",
    "    \n",
    "    return max_sum "
   ]
  },
  {
   "cell_type": "code",
   "execution_count": 60,
   "metadata": {},
   "outputs": [],
   "source": [
    "a=[2, 1, 5, 1, 3, 2, 24]\n",
    "k=3 "
   ]
  },
  {
   "cell_type": "code",
   "execution_count": 61,
   "metadata": {},
   "outputs": [
    {
     "data": {
      "text/plain": [
       "29"
      ]
     },
     "execution_count": 61,
     "metadata": {},
     "output_type": "execute_result"
    }
   ],
   "source": [
    "subarray_sum(a, k)"
   ]
  },
  {
   "cell_type": "markdown",
   "metadata": {},
   "source": [
    "## Smallest Subarray with a given sum"
   ]
  },
  {
   "cell_type": "code",
   "execution_count": null,
   "metadata": {},
   "outputs": [],
   "source": [
    "def smallest_subarray(s, arr):\n",
    "    import math\n",
    "    \n",
    "    l, r = 0, 0\n",
    "    running_sum = arr[0]\n",
    "    min_sum = -math.inf\n",
    "    \n",
    "    while l < len(arr) and l != r:\n",
    "        if running_sum < s:\n",
    "            r += 1\n",
    "            running_sum += arr[r]\n",
    "        elif running_sum > s:\n",
    "            r\n",
    "            \n",
    "        \n",
    "        "
   ]
  }
 ],
 "metadata": {
  "kernelspec": {
   "display_name": "Python 3",
   "language": "python",
   "name": "python3"
  },
  "language_info": {
   "codemirror_mode": {
    "name": "ipython",
    "version": 3
   },
   "file_extension": ".py",
   "mimetype": "text/x-python",
   "name": "python",
   "nbconvert_exporter": "python",
   "pygments_lexer": "ipython3",
   "version": "3.7.3"
  }
 },
 "nbformat": 4,
 "nbformat_minor": 2
}
